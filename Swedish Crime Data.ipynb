{
 "cells": [
  {
   "cell_type": "markdown",
   "id": "bd646bcd-a1f8-4fab-96b9-762d8d3a7d1e",
   "metadata": {},
   "source": [
    "1. Importing Libraries\n",
    "\n",
    "Explanation:\r\n",
    "  pandas: A powerful data manipulation library in Python, used for reading and processing dat\n",
    "a   StandardScaler from sklearn.preprocessing: A tool for standardizing features by removing the mean and scaling to unit variance.\r\n",
    "\r\n",
    "Purpose:\r\n",
    "These libraries are essential for data manipulation and normalization, which are crucial steps in data preprocessing for machine learning models."
   ]
  },
  {
   "cell_type": "code",
   "execution_count": 1,
   "id": "7446b4ba-6ad7-49b2-b0c9-193d226a0f63",
   "metadata": {},
   "outputs": [
    {
     "name": "stderr",
     "output_type": "stream",
     "text": [
      "C:\\Users\\jeffo\\AppData\\Local\\Temp\\ipykernel_9240\\1664133505.py:2: DeprecationWarning: \n",
      "Pyarrow will become a required dependency of pandas in the next major release of pandas (pandas 3.0),\n",
      "(to allow more performant data types, such as the Arrow string type, and better interoperability with other libraries)\n",
      "but was not found to be installed on your system.\n",
      "If this would cause problems for you,\n",
      "please provide us feedback at https://github.com/pandas-dev/pandas/issues/54466\n",
      "        \n",
      "  import pandas as pd\n"
     ]
    }
   ],
   "source": [
    "# Import necessary libraries\n",
    "import pandas as pd\n",
    "from sklearn.preprocessing import StandardScaler"
   ]
  },
  {
   "cell_type": "markdown",
   "id": "ae8ad8ec-6aa6-40f5-82ba-2eaec7d6f2e7",
   "metadata": {},
   "source": [
    "2. Loading the Data\n",
    "\n",
    "Explanation:\r\n",
    "  pd.read_csv(file_path): Reads the CSV file from the specified path into a pandas DataFrame.\r\n",
    "\r\n",
    "Purpose:\r\n",
    "Loading the data into a DataFrame allows you to manipulate and analyze it easily using pandas functions."
   ]
  },
  {
   "cell_type": "code",
   "execution_count": 4,
   "id": "1b72b282-6531-467f-b7e6-3fe55d93c216",
   "metadata": {},
   "outputs": [],
   "source": [
    "# Load the CSV file\n",
    "file_path = 'reported.csv'  \n",
    "data = pd.read_csv(file_path)"
   ]
  },
  {
   "cell_type": "markdown",
   "id": "481b0353-ef3b-424f-875a-87183f98676e",
   "metadata": {},
   "source": [
    "3. Displaying the First Few Rows, Displaying Basic Information and Displaying Summary Statistics\n",
    "\n",
    "\n",
    "Displaying the First Few Rows:\n",
    "\n",
    "Explanation:\n",
    "data.head(): Displays the first five rows of the DataFrame.\n",
    "\n",
    "Purpose:\n",
    "Provides a quick overview of the dataset's structure and the initial few records, helping to understand what kind of data you are working with.\n",
    "\n",
    "Displaying Basic Information:\n",
    "\n",
    "Explanation:\n",
    "data.info(): Provides a summary of the DataFrame, including the number of non-null entries, column data types, and memory usage.\n",
    "\n",
    "Purpose:\n",
    "Helps identify the presence of missing values and understand the types of data in each column, which is important for subsequent data cleaning steps.\n",
    "\n",
    "Displaying Summary Statistics:\n",
    "\n",
    "Explanation:\n",
    "data.describe(): Generates descriptive statistics, such as mean, median, min, and max, for numeric columns in the DataFrame.\n",
    "\n",
    "Purpose:\n",
    "Provides insights into the distribution and central tendency of the data, helping to detect any anomalies or outliers.\n"
   ]
  },
  {
   "cell_type": "code",
   "execution_count": 5,
   "id": "d9b134ad-1ef0-408b-8a1e-772c2438a383",
   "metadata": {},
   "outputs": [
    {
     "name": "stdout",
     "output_type": "stream",
     "text": [
      "First few rows of the data:\n",
      "   Year  crimes.total  crimes.penal.code  crimes.person  murder  assault  \\\n",
      "0  1950          2784               2306            120       1      105   \n",
      "1  1951          3284               2754            125       1      109   \n",
      "2  1952          3160               2608            119       1      104   \n",
      "3  1953          2909               2689            119       1      105   \n",
      "4  1954          3028               2791            126       1      107   \n",
      "\n",
      "   sexual.offenses  rape  stealing.general  burglary  ...  vehicle.theft  \\\n",
      "0               40     5              1578       295  ...            NaN   \n",
      "1               45     6              1899       342  ...            NaN   \n",
      "2               39     4              1846       372  ...            NaN   \n",
      "3               45     5              1929       361  ...            NaN   \n",
      "4               41     5              1981       393  ...            NaN   \n",
      "\n",
      "   out.of.vehicle.theft  shop.theft  robbery  fraud  criminal.damage  \\\n",
      "0                   NaN         NaN        3    209               72   \n",
      "1                   NaN         NaN        3    310               73   \n",
      "2                   NaN         NaN        3    217               82   \n",
      "3                   NaN         NaN        4    209               88   \n",
      "4                   NaN         NaN        4    236              101   \n",
      "\n",
      "   other.penal.crimes  narcotics  drunk.driving  population  \n",
      "0                 477        0.0             49     7014000  \n",
      "1                 530        0.0             66     7073000  \n",
      "2                 553        0.0             78     7125000  \n",
      "3                 220        0.0             91     7171000  \n",
      "4                 237        0.0            103     7213000  \n",
      "\n",
      "[5 rows x 21 columns]\n",
      "\n",
      "Basic information about the data:\n",
      "<class 'pandas.core.frame.DataFrame'>\n",
      "RangeIndex: 66 entries, 0 to 65\n",
      "Data columns (total 21 columns):\n",
      " #   Column                Non-Null Count  Dtype  \n",
      "---  ------                --------------  -----  \n",
      " 0   Year                  66 non-null     int64  \n",
      " 1   crimes.total          66 non-null     int64  \n",
      " 2   crimes.penal.code     66 non-null     int64  \n",
      " 3   crimes.person         66 non-null     int64  \n",
      " 4   murder                66 non-null     int64  \n",
      " 5   assault               66 non-null     int64  \n",
      " 6   sexual.offenses       66 non-null     int64  \n",
      " 7   rape                  66 non-null     int64  \n",
      " 8   stealing.general      66 non-null     int64  \n",
      " 9   burglary              66 non-null     int64  \n",
      " 10  house.theft           51 non-null     float64\n",
      " 11  vehicle.theft         59 non-null     float64\n",
      " 12  out.of.vehicle.theft  51 non-null     float64\n",
      " 13  shop.theft            51 non-null     float64\n",
      " 14  robbery               66 non-null     int64  \n",
      " 15  fraud                 66 non-null     int64  \n",
      " 16  criminal.damage       66 non-null     int64  \n",
      " 17  other.penal.crimes    66 non-null     int64  \n",
      " 18  narcotics             62 non-null     float64\n",
      " 19  drunk.driving         66 non-null     int64  \n",
      " 20  population            66 non-null     int64  \n",
      "dtypes: float64(5), int64(16)\n",
      "memory usage: 11.0 KB\n",
      "None\n",
      "\n",
      "Summary statistics of the data:\n",
      "              Year  crimes.total  crimes.penal.code  crimes.person     murder  \\\n",
      "count    66.000000     66.000000          66.000000      66.000000  66.000000   \n",
      "mean   1982.500000  10084.257576        8695.181818     451.287879   1.757576   \n",
      "std      19.196354   4223.893287        3582.148938     295.041002   0.724529   \n",
      "min    1950.000000   2784.000000        2306.000000     119.000000   1.000000   \n",
      "25%    1966.250000   6152.500000        5336.000000     185.250000   1.000000   \n",
      "50%    1982.500000  11654.000000        9637.000000     370.500000   2.000000   \n",
      "75%    1998.750000  13663.750000       12002.500000     690.500000   2.000000   \n",
      "max    2015.000000  15342.000000       12803.000000    1005.000000   4.000000   \n",
      "\n",
      "          assault  sexual.offenses       rape  stealing.general     burglary  \\\n",
      "count   66.000000        66.000000  66.000000         66.000000    66.000000   \n",
      "mean   423.106061        75.318182  20.045455       5580.545455  1240.681818   \n",
      "std    281.839023        48.136396  19.147550       2089.329161   456.699806   \n",
      "min    104.000000        29.000000   4.000000       1578.000000   295.000000   \n",
      "25%    167.750000        41.000000   8.000000       3786.750000   918.250000   \n",
      "50%    345.000000        50.000000  11.000000       5928.000000  1331.000000   \n",
      "75%    658.000000        97.000000  23.000000       7444.500000  1653.250000   \n",
      "max    947.000000       210.000000  69.000000       8650.000000  1878.000000   \n",
      "\n",
      "       ...  vehicle.theft  out.of.vehicle.theft  shop.theft     robbery  \\\n",
      "count  ...      59.000000             51.000000   51.000000   66.000000   \n",
      "mean   ...     466.288136           1192.568627  540.294118   48.060606   \n",
      "std    ...     193.701161            432.536438  185.298710   35.412679   \n",
      "min    ...     135.000000            542.000000  123.000000    3.000000   \n",
      "25%    ...     339.500000            753.500000  379.000000   13.250000   \n",
      "50%    ...     419.000000           1210.000000  606.000000   42.000000   \n",
      "75%    ...     660.500000           1580.000000  695.000000   83.500000   \n",
      "max    ...     882.000000           1869.000000  807.000000  104.000000   \n",
      "\n",
      "             fraud  criminal.damage  other.penal.crimes    narcotics  \\\n",
      "count    66.000000        66.000000           66.000000    62.000000   \n",
      "mean    730.636364       879.484848         1383.303030   386.629032   \n",
      "std     395.296097       605.272253          717.521867   307.130945   \n",
      "min     209.000000        72.000000          220.000000     0.000000   \n",
      "25%     476.500000       301.250000          816.750000   201.250000   \n",
      "50%     640.000000       818.000000         1465.000000   350.000000   \n",
      "75%    1080.250000      1351.500000         1776.500000   539.250000   \n",
      "max    1896.000000      2175.000000         2721.000000  1002.000000   \n",
      "\n",
      "       drunk.driving    population  \n",
      "count      66.000000  6.600000e+01  \n",
      "mean      225.757576  8.341848e+06  \n",
      "std        66.349902  7.179351e+05  \n",
      "min        49.000000  7.014000e+06  \n",
      "25%       178.000000  7.823000e+06  \n",
      "50%       238.000000  8.327000e+06  \n",
      "75%       272.500000  8.856250e+06  \n",
      "max       337.000000  9.851000e+06  \n",
      "\n",
      "[8 rows x 21 columns]\n"
     ]
    }
   ],
   "source": [
    "# Display the first few rows of the dataframe\n",
    "print(\"First few rows of the data:\")\n",
    "print(data.head())\n",
    "\n",
    "# Display basic information about the data\n",
    "print(\"\\nBasic information about the data:\")\n",
    "print(data.info())\n",
    "\n",
    "# Display summary statistics\n",
    "print(\"\\nSummary statistics of the data:\")\n",
    "print(data.describe())"
   ]
  },
  {
   "cell_type": "markdown",
   "id": "dc21c434-b1c5-4791-9a92-aaa2ad82b9fc",
   "metadata": {},
   "source": [
    "4. Checking for Missing Values\n",
    "\n",
    "Explanation:\r",
    "  data.isnull().sum(): Counts the number of missing values in each column.\r\n",
    "\r\n",
    "Purpose:\r\n",
    "Identifies columns with missing data, which is essential for data cleaning."
   ]
  },
  {
   "cell_type": "code",
   "execution_count": 6,
   "id": "4d4808ae-0ef9-46bc-bfa3-9694d7c21718",
   "metadata": {},
   "outputs": [
    {
     "name": "stdout",
     "output_type": "stream",
     "text": [
      "\n",
      "Missing values in the data:\n",
      "Year                     0\n",
      "crimes.total             0\n",
      "crimes.penal.code        0\n",
      "crimes.person            0\n",
      "murder                   0\n",
      "assault                  0\n",
      "sexual.offenses          0\n",
      "rape                     0\n",
      "stealing.general         0\n",
      "burglary                 0\n",
      "house.theft             15\n",
      "vehicle.theft            7\n",
      "out.of.vehicle.theft    15\n",
      "shop.theft              15\n",
      "robbery                  0\n",
      "fraud                    0\n",
      "criminal.damage          0\n",
      "other.penal.crimes       0\n",
      "narcotics                4\n",
      "drunk.driving            0\n",
      "population               0\n",
      "dtype: int64\n"
     ]
    }
   ],
   "source": [
    "# Check for missing values\n",
    "print(\"\\nMissing values in the data:\")\n",
    "print(data.isnull().sum())\n"
   ]
  },
  {
   "cell_type": "markdown",
   "id": "587e9e9c-3e0a-4448-9c7b-1a2503a02bf3",
   "metadata": {},
   "source": [
    "5. Handling Missing Values\n",
    "\n",
    "Explanation:\r",
    "  fillna(data['column_name'].median(), inplace=True): Fills missing values in the specified column with the median value of that column.\r\n",
    "\r\n",
    "Purpose:\r\n",
    "Filling missing values with the median helps to maintain data integrity by not skewing the data distribution, especially when dealing with outliers."
   ]
  },
  {
   "cell_type": "code",
   "execution_count": null,
   "id": "806cae8a-6789-4ce1-af93-73f914b3c07c",
   "metadata": {},
   "outputs": [],
   "source": [
    "# Handling missing values (example: filling with median)\n",
    "data['house.theft'].fillna(data['house.theft'].median(), inplace=True)\n",
    "data['vehicle.theft'].fillna(data['vehicle.theft'].median(), inplace=True)\n",
    "data['out.of.vehicle.theft'].fillna(data['out.of.vehicle.theft'].median(), inplace=True)\n",
    "data['shop.theft'].fillna(data['shop.theft'].median(), inplace=True)\n",
    "data['narcotics'].fillna(data['narcotics'].median(), inplace=True)\n"
   ]
  },
  {
   "cell_type": "markdown",
   "id": "b29356eb-c40b-4f05-a547-42608b98e75d",
   "metadata": {},
   "source": [
    "6. Verifying Missing Values\n",
    "\n",
    "Explanation:\r",
    "  Rechecks the DataFrame for any remaining missing values after imputation.\r\n",
    "\r\n",
    "Purpose:\r\n",
    "Ensures that all missing values have been appropriately handled."
   ]
  },
  {
   "cell_type": "code",
   "execution_count": null,
   "id": "38123c76-c4aa-4e17-a369-8e0be4e32ccb",
   "metadata": {},
   "outputs": [],
   "source": [
    "# Verify if there are any remaining missing values\n",
    "print(\"\\nMissing values after handling them:\")\n",
    "print(data.isnull().sum())"
   ]
  },
  {
   "cell_type": "markdown",
   "id": "4840ebc5-c67f-4b50-90b4-45692899c88f",
   "metadata": {},
   "source": [
    "7. Normalizing the Data\n",
    "\n",
    "Explanation:\r",
    "  StandardScaler: Normalizes the data to have a mean of 0 and a standard deviation of 1, which is important for many machine learning algorithm\n",
    "s   scaler.fit_transform(data.drop('Year', axis=1)): Applies normalization to all columns except 'Yea\n",
    "r    pd.DataFrame(): Converts the normalized numpy array back to a DataFrame and reattaches the 'Year' col\n",
    "\n",
    "Purpose:\r\n",
    "Normalization ensures that all features contribute equally to the analysis and model training, preventing any single feature from dominating due to its scale.umn."
   ]
  },
  {
   "cell_type": "code",
   "execution_count": null,
   "id": "5e5ab917-03b8-42cd-8527-1093e181b2b1",
   "metadata": {},
   "outputs": [],
   "source": [
    "# Normalizing the data (excluding the 'Year' column)\n",
    "scaler = StandardScaler()\n",
    "data_scaled = pd.DataFrame(scaler.fit_transform(data.drop('Year', axis=1)), columns=data.columns[1:])\n",
    "data_scaled['Year'] = data['Year']"
   ]
  },
  {
   "cell_type": "markdown",
   "id": "488d4b1a-9e6b-47ec-ba33-191c458f9d60",
   "metadata": {},
   "source": [
    "8. Displaying Cleaned and Normalized Data\n",
    "\n",
    "Explanation:\n",
    "Displays the first few rows of the cleaned and normalized DataFrame.\n",
    "\n",
    "Purpose:\n",
    "Provides a final check to ensure that the data cleaning and normalization processes have been correctly applied.\n",
    "\n",
    "Explanation:\r",
    "  print(\"\\nCleaned and normalized data:\"): Prints a header message to indicate that the following output will display the cleaned and normalized dat\n",
    "a   print(data_scaled.head()): Displays the first five rows of the cleaned and normalized DataFrame data_scaled.\r\n",
    "\r\n",
    "Purp\n",
    "\r\n",
    "    Verification: Provides a quick visual check to confirm that the data has been cleaned and normalized correctly. It allows you to see a sample of the processed data directly in the no\n",
    "\n",
    "Explanation:\r",
    "  data_scaled.to_csv('cleaned_Swedish_data.csv', index=False): Saves the cleaned and normalized DataFrame data_scaled to a CSV file named cleaned_Swedish_data.cs\n",
    "v   'cleaned_Swedish_data.csv': The name of the file where the data will be sav\n",
    "e    index=False: This parameter ensures that the DataFrame's index is not saved as a separate column in the CSV file.\r\n",
    "\r\n",
    "Pup\r\n",
    "\r\n",
    "    Persistence: Ensures that the cleaned and normalized data is stored permanently on disk, allowing for future use without needing to reprocess thta.\r\n",
    "    Sharing: Facilitates easy sharing of the processed data with colleagues or for use in different environments orxplanation:\r",
    "  print(\"Cleaned and normalized data saved to 'cleaned_Swedish_data.csv'.\"): Prints a confirmation message indicating that the data has been successfully saved to the specified CSV file.\r\n",
    "\r\n",
    "Purpo\r\n",
    "    Feedback: Provides immediate feedback to the user, confirming that the data-saving operation was successful. This is useful for ensuring that the data has been saved correctly without needing to manually check the file system. tools.\n",
    "\n",
    "tebook.\n"
   ]
  },
  {
   "cell_type": "code",
   "execution_count": null,
   "id": "959ee4d1-45e7-4a93-af77-8aec663aac91",
   "metadata": {},
   "outputs": [],
   "source": [
    "# Display the cleaned and normalized data\n",
    "print(\"\\nCleaned and normalized data:\")\n",
    "print(data_scaled.head())\n",
    "\n",
    "# Save the cleaned and normalized data to a CSV file\n",
    "data_scaled.to_csv('cleaned_Swedish_data.csv', index=False)\n",
    "\n",
    "# Print confirmation\n",
    "print(\"Cleaned and normalized data saved to 'cleaned_Swedish_data.csv'.\")"
   ]
  }
 ],
 "metadata": {
  "kernelspec": {
   "display_name": "Python 3 (ipykernel)",
   "language": "python",
   "name": "python3"
  },
  "language_info": {
   "codemirror_mode": {
    "name": "ipython",
    "version": 3
   },
   "file_extension": ".py",
   "mimetype": "text/x-python",
   "name": "python",
   "nbconvert_exporter": "python",
   "pygments_lexer": "ipython3",
   "version": "3.12.1"
  }
 },
 "nbformat": 4,
 "nbformat_minor": 5
}
